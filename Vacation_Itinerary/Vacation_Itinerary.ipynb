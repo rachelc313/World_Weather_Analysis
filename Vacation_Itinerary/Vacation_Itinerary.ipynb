{
 "cells": [
  {
   "cell_type": "markdown",
   "metadata": {},
   "source": [
    "# Deliverable 3. Create a Travel Itinerary Map.\n",
    "----\n",
    "1. Import the vacation CSV file. \n",
    "2. From the map above with pick 4 cities that are in close proximity (on the same continent) that the customer would travel to and create a directions layer map.\n",
    "3. For the \"travel_mode\" use either \"DRIVING\", \"BICYCLING\", or \"WALKING\".\n",
    "4. Take a screenshot of the route and save it. \n",
    "5. Then create a marker layer for the four cities. Each city will should have a pop-up marker that contains\n",
    "    - The hotel name\n",
    "    - The city\n",
    "    - The country\n",
    "    - The current weather description and the maximum temperature\n",
    "---"
   ]
  },
  {
   "cell_type": "markdown",
   "metadata": {},
   "source": [
    "## Make sure the initial dependencies and the Google API key are imported."
   ]
  },
  {
   "cell_type": "code",
   "execution_count": 1,
   "metadata": {},
   "outputs": [],
   "source": [
    "# Dependencies and Setup\n",
    "import pandas as pd\n",
    "import requests\n",
    "import gmaps\n",
    "\n",
    "# Import API key\n",
    "from config import g_key"
   ]
  },
  {
   "cell_type": "code",
   "execution_count": 2,
   "metadata": {},
   "outputs": [],
   "source": [
    "# Configure gmaps\n",
    "gmaps.configure(api_key=g_key)"
   ]
  },
  {
   "cell_type": "markdown",
   "metadata": {},
   "source": [
    "## From your `Vacation_Search` folder from Deliverable 2, import the `WeatherPy_vacation.csv` file as a DataFrame named `vacation_df`"
   ]
  },
  {
   "cell_type": "code",
   "execution_count": 4,
   "metadata": {},
   "outputs": [
    {
     "data": {
      "text/html": [
       "<div>\n",
       "<style scoped>\n",
       "    .dataframe tbody tr th:only-of-type {\n",
       "        vertical-align: middle;\n",
       "    }\n",
       "\n",
       "    .dataframe tbody tr th {\n",
       "        vertical-align: top;\n",
       "    }\n",
       "\n",
       "    .dataframe thead th {\n",
       "        text-align: right;\n",
       "    }\n",
       "</style>\n",
       "<table border=\"1\" class=\"dataframe\">\n",
       "  <thead>\n",
       "    <tr style=\"text-align: right;\">\n",
       "      <th></th>\n",
       "      <th>City_ID</th>\n",
       "      <th>City</th>\n",
       "      <th>Country</th>\n",
       "      <th>Max Temp</th>\n",
       "      <th>Current Description</th>\n",
       "      <th>Lat</th>\n",
       "      <th>Lng</th>\n",
       "      <th>Hotel Name</th>\n",
       "    </tr>\n",
       "  </thead>\n",
       "  <tbody>\n",
       "    <tr>\n",
       "      <th>0</th>\n",
       "      <td>2</td>\n",
       "      <td>Dingle</td>\n",
       "      <td>PH</td>\n",
       "      <td>77.14</td>\n",
       "      <td>overcast clouds</td>\n",
       "      <td>11.00</td>\n",
       "      <td>122.67</td>\n",
       "      <td>SEGAYA PROPERTY</td>\n",
       "    </tr>\n",
       "    <tr>\n",
       "      <th>1</th>\n",
       "      <td>4</td>\n",
       "      <td>Butaritari</td>\n",
       "      <td>KI</td>\n",
       "      <td>81.70</td>\n",
       "      <td>scattered clouds</td>\n",
       "      <td>3.07</td>\n",
       "      <td>172.79</td>\n",
       "      <td>Isles Sunset Lodge</td>\n",
       "    </tr>\n",
       "    <tr>\n",
       "      <th>2</th>\n",
       "      <td>7</td>\n",
       "      <td>Ishigaki</td>\n",
       "      <td>JP</td>\n",
       "      <td>81.81</td>\n",
       "      <td>clear sky</td>\n",
       "      <td>24.34</td>\n",
       "      <td>124.16</td>\n",
       "      <td>Hotel Peace Land Ishigakijima</td>\n",
       "    </tr>\n",
       "    <tr>\n",
       "      <th>3</th>\n",
       "      <td>11</td>\n",
       "      <td>Atuona</td>\n",
       "      <td>PF</td>\n",
       "      <td>77.13</td>\n",
       "      <td>overcast clouds</td>\n",
       "      <td>-9.80</td>\n",
       "      <td>-139.03</td>\n",
       "      <td>Villa Enata</td>\n",
       "    </tr>\n",
       "    <tr>\n",
       "      <th>4</th>\n",
       "      <td>17</td>\n",
       "      <td>Cayenne</td>\n",
       "      <td>GF</td>\n",
       "      <td>89.64</td>\n",
       "      <td>clear sky</td>\n",
       "      <td>4.93</td>\n",
       "      <td>-52.33</td>\n",
       "      <td>Hôtel Le Dronmi</td>\n",
       "    </tr>\n",
       "    <tr>\n",
       "      <th>5</th>\n",
       "      <td>20</td>\n",
       "      <td>Georgetown</td>\n",
       "      <td>MY</td>\n",
       "      <td>78.73</td>\n",
       "      <td>moderate rain</td>\n",
       "      <td>5.41</td>\n",
       "      <td>100.34</td>\n",
       "      <td>Cititel Penang</td>\n",
       "    </tr>\n",
       "    <tr>\n",
       "      <th>6</th>\n",
       "      <td>22</td>\n",
       "      <td>Kendari</td>\n",
       "      <td>ID</td>\n",
       "      <td>76.41</td>\n",
       "      <td>overcast clouds</td>\n",
       "      <td>-3.94</td>\n",
       "      <td>122.50</td>\n",
       "      <td>Hotel Wixel</td>\n",
       "    </tr>\n",
       "    <tr>\n",
       "      <th>7</th>\n",
       "      <td>23</td>\n",
       "      <td>Wenchi</td>\n",
       "      <td>GH</td>\n",
       "      <td>82.38</td>\n",
       "      <td>light rain</td>\n",
       "      <td>7.74</td>\n",
       "      <td>-2.10</td>\n",
       "      <td>Ebenezer Hotel</td>\n",
       "    </tr>\n",
       "    <tr>\n",
       "      <th>8</th>\n",
       "      <td>30</td>\n",
       "      <td>Las Vegas</td>\n",
       "      <td>US</td>\n",
       "      <td>82.81</td>\n",
       "      <td>clear sky</td>\n",
       "      <td>36.17</td>\n",
       "      <td>-115.14</td>\n",
       "      <td>Plaza Hotel &amp; Casino</td>\n",
       "    </tr>\n",
       "    <tr>\n",
       "      <th>9</th>\n",
       "      <td>32</td>\n",
       "      <td>Turan</td>\n",
       "      <td>VN</td>\n",
       "      <td>80.58</td>\n",
       "      <td>scattered clouds</td>\n",
       "      <td>16.07</td>\n",
       "      <td>108.22</td>\n",
       "      <td>Grand Mercure Danang</td>\n",
       "    </tr>\n",
       "  </tbody>\n",
       "</table>\n",
       "</div>"
      ],
      "text/plain": [
       "   City_ID        City Country  Max Temp Current Description    Lat     Lng  \\\n",
       "0        2      Dingle      PH     77.14     overcast clouds  11.00  122.67   \n",
       "1        4  Butaritari      KI     81.70    scattered clouds   3.07  172.79   \n",
       "2        7    Ishigaki      JP     81.81           clear sky  24.34  124.16   \n",
       "3       11      Atuona      PF     77.13     overcast clouds  -9.80 -139.03   \n",
       "4       17     Cayenne      GF     89.64           clear sky   4.93  -52.33   \n",
       "5       20  Georgetown      MY     78.73       moderate rain   5.41  100.34   \n",
       "6       22     Kendari      ID     76.41     overcast clouds  -3.94  122.50   \n",
       "7       23      Wenchi      GH     82.38          light rain   7.74   -2.10   \n",
       "8       30   Las Vegas      US     82.81           clear sky  36.17 -115.14   \n",
       "9       32       Turan      VN     80.58    scattered clouds  16.07  108.22   \n",
       "\n",
       "                      Hotel Name  \n",
       "0                SEGAYA PROPERTY  \n",
       "1             Isles Sunset Lodge  \n",
       "2  Hotel Peace Land Ishigakijima  \n",
       "3                    Villa Enata  \n",
       "4                Hôtel Le Dronmi  \n",
       "5                 Cititel Penang  \n",
       "6                    Hotel Wixel  \n",
       "7                 Ebenezer Hotel  \n",
       "8           Plaza Hotel & Casino  \n",
       "9           Grand Mercure Danang  "
      ]
     },
     "execution_count": 4,
     "metadata": {},
     "output_type": "execute_result"
    }
   ],
   "source": [
    "# Read the WeatherPy_vacation.csv into a DataFrame\n",
    "vacation_df = pd.read_csv(\"../Vacation_Search/WeatherPy_vacation.csv\")\n",
    "\n",
    "# Display sample data\n",
    "vacation_df.head(10)"
   ]
  },
  {
   "cell_type": "markdown",
   "metadata": {},
   "source": [
    "**Note:** If the resulting DataFrame is empty, uncomment the following code to load sample data into the `clean_hotel_df`."
   ]
  },
  {
   "cell_type": "code",
   "execution_count": null,
   "metadata": {},
   "outputs": [],
   "source": [
    "# In case of an empty DataFrame, load the sample data provided\n",
    "# clean_hotel_df = pd.read_csv(\"WeatherPy_vacation-backup.csv\")\n",
    "# clean_hotel_df.head(10)"
   ]
  },
  {
   "cell_type": "markdown",
   "metadata": {
    "tags": []
   },
   "source": [
    "## In this step, you will set-up the pop-up markers. Review the code to create a marker layer map of the vacation search results. This code is the same as in Deliverable 2."
   ]
  },
  {
   "cell_type": "code",
   "execution_count": 5,
   "metadata": {},
   "outputs": [],
   "source": [
    "# Review the formatting template\n",
    "info_box_template = \"\"\"\n",
    "<dl>\n",
    "<dt>Hotel Name</dt><dd>{Hotel Name}</dd>\n",
    "<dt>City</dt><dd>{City}</dd>\n",
    "<dt>Country</dt><dd>{Country}</dd>\n",
    "<dt>Current Weather</dt><dd>{Current Description} and {Max Temp} °F</dd>\n",
    "</dl>\n",
    "\"\"\"\n",
    "\n",
    "# Get the data from each row and add it to the formatting template and store the data in a list\n",
    "hotel_info = [info_box_template.format(**row) for index, row in vacation_df.iterrows()]\n",
    "\n",
    "# Get the latitude and longitude from each row and store in a new DataFrame.\n",
    "locations = vacation_df[[\"Lat\", \"Lng\"]]"
   ]
  },
  {
   "cell_type": "code",
   "execution_count": 6,
   "metadata": {},
   "outputs": [
    {
     "data": {
      "application/vnd.jupyter.widget-view+json": {
       "model_id": "70b826a8c0bb40cfa8a185dc69690458",
       "version_major": 2,
       "version_minor": 0
      },
      "text/plain": [
       "Figure(layout=FigureLayout(height='420px'))"
      ]
     },
     "metadata": {},
     "output_type": "display_data"
    }
   ],
   "source": [
    "# Add a marker layer for each city to the map.\n",
    "marker_layer = gmaps.marker_layer(locations, info_box_content=hotel_info)\n",
    "fig = gmaps.figure()\n",
    "fig.add_layer(marker_layer)\n",
    "\n",
    "# Display the figure\n",
    "fig"
   ]
  },
  {
   "cell_type": "markdown",
   "metadata": {},
   "source": [
    "## From the vacation search map, *choose four cities* that a customer might want to visit. They should be close together and in the same country."
   ]
  },
  {
   "cell_type": "code",
   "execution_count": 87,
   "metadata": {},
   "outputs": [
    {
     "data": {
      "text/plain": [
       "City_ID                                            498\n",
       "City                                            Kailua\n",
       "Country                                             US\n",
       "Max Temp                                         75.18\n",
       "Current Description                      broken clouds\n",
       "Lat                                               21.4\n",
       "Lng                                            -157.74\n",
       "Hotel Name             Sheffield House Bed & Breakfast\n",
       "Name: 147, dtype: object"
      ]
     },
     "execution_count": 87,
     "metadata": {},
     "output_type": "execute_result"
    }
   ],
   "source": [
    "# Create DataFrames for each city by filtering the 'vacation_df' using the loc method. \n",
    "# The starting and ending city should be the same city.\n",
    "vacation_start = vacation_df.loc[147, :]\n",
    "vacation_end = vacation_df.loc[147, :]\n",
    "vacation_stop1 = vacation_df.loc[145, :]\n",
    "vacation_stop2 = vacation_df.loc[30, :]\n",
    "vacation_stop3 = vacation_df.loc[121, :]\n",
    "vacation_start"
   ]
  },
  {
   "cell_type": "markdown",
   "metadata": {},
   "source": [
    "## Use the `to_numpy()` function and list indexing to write code to retrieve the latitude-longitude pairs as tuples from each city DataFrame."
   ]
  },
  {
   "cell_type": "code",
   "execution_count": 100,
   "metadata": {},
   "outputs": [
    {
     "data": {
      "text/plain": [
       "0    21.4\n",
       "dtype: float64"
      ]
     },
     "execution_count": 100,
     "metadata": {},
     "output_type": "execute_result"
    }
   ],
   "source": [
    "# Get the latitude-longitude pairs as tuples from each city DataFrame using the to_numpy function and list indexing.\n",
    "start = pd.Series(vacation_start['Lat'])\n",
    "start"
   ]
  },
  {
   "cell_type": "markdown",
   "metadata": {},
   "source": [
    "## Use the [gmaps documentation](https://jupyter-gmaps.readthedocs.io/en/latest/tutorial.html#directions-layer) to create a directions layer map using the variables from the previous step. Where the starting and ending city are the same city, the `waypoints` are the three other cities, and the `travel_mode` is either `\"DRIVING\"`, `\"BICYCLING\"`, or `\"WALKING\"`."
   ]
  },
  {
   "cell_type": "code",
   "execution_count": null,
   "metadata": {
    "tags": []
   },
   "outputs": [],
   "source": [
    "# Define a new figure object\n",
    "fig = # YOUR CODE HERE\n",
    "\n",
    "# Create a direction layer map using the start and end latitude-longitude pairs, and stop1, stop2, and stop3 as the waypoints.\n",
    "# The travel_mode should be \"DRIVING\", \"BICYCLING\", or \"WALKING\".\n",
    "vacation_itinerary = # YOUR CODE HERE\n",
    "\n",
    "# Add the layer to the map\n",
    "# YOUR CODE HERE\n",
    "\n",
    "# Display the map\n",
    "# YOUR CODE HERE"
   ]
  },
  {
   "cell_type": "markdown",
   "metadata": {},
   "source": [
    "## Use the provided `concat()` function code snippet to combine the four separate city DataFrames into one DataFrame."
   ]
  },
  {
   "cell_type": "code",
   "execution_count": null,
   "metadata": {},
   "outputs": [],
   "source": [
    "#  Combine the four city DataFrames into one DataFrame using the concat() function.\n",
    "itinerary_df = pd.concat(\n",
    "    [\n",
    "        vacation_start,\n",
    "        vacation_stop1,\n",
    "        vacation_stop2,\n",
    "        vacation_stop3\n",
    "    ],\n",
    "    ignore_index = True\n",
    ")\n",
    "\n",
    "# Display sample data\n",
    "itinerary_df"
   ]
  },
  {
   "cell_type": "markdown",
   "metadata": {},
   "source": [
    "## Refactor the code from Step 6 to create a new marker layer map of the cities on the travel route."
   ]
  },
  {
   "cell_type": "code",
   "execution_count": null,
   "metadata": {},
   "outputs": [],
   "source": [
    "# Review the formatting template\n",
    "info_box_template = \"\"\"\n",
    "<dl>\n",
    "<dt>Hotel Name</dt><dd>{Hotel Name}</dd>\n",
    "<dt>City</dt><dd>{City}</dd>\n",
    "<dt>Country</dt><dd>{Country}</dd>\n",
    "<dt>Current Weather</dt><dd>{Current Description} and {Max Temp} °F</dd>\n",
    "</dl>\n",
    "\"\"\"\n",
    "\n",
    "# Get the data from each row and add it to the formatting template and store the data in a list\n",
    "hotel_info = # YOUR CODE HERE\n",
    "\n",
    "# Get the latitude and longitude from each row and store in a new DataFrame.\n",
    "locations = # YOUR CODE HERE"
   ]
  },
  {
   "cell_type": "code",
   "execution_count": null,
   "metadata": {},
   "outputs": [],
   "source": [
    "# Add a marker layer for each city to the map.\n",
    "marker_layer = # YOUR CODE HERE\n",
    "\n",
    "# Define a new figure object\n",
    "fig = # YOUR CODE HERE\n",
    "\n",
    "# Add the layer to the map\n",
    "# YOUR CODE HERE\n",
    "\n",
    "# Display the map\n",
    "# YOUR CODE HERE"
   ]
  }
 ],
 "metadata": {
  "kernelspec": {
   "display_name": "Python 3 (ipykernel)",
   "language": "python",
   "name": "python3"
  },
  "language_info": {
   "codemirror_mode": {
    "name": "ipython",
    "version": 3
   },
   "file_extension": ".py",
   "mimetype": "text/x-python",
   "name": "python",
   "nbconvert_exporter": "python",
   "pygments_lexer": "ipython3",
   "version": "3.7.13"
  },
  "latex_envs": {
   "LaTeX_envs_menu_present": true,
   "autoclose": false,
   "autocomplete": true,
   "bibliofile": "biblio.bib",
   "cite_by": "apalike",
   "current_citInitial": 1,
   "eqLabelWithNumbers": true,
   "eqNumInitial": 1,
   "hotkeys": {
    "equation": "Ctrl-E",
    "itemize": "Ctrl-I"
   },
   "labels_anchors": false,
   "latex_user_defs": false,
   "report_style_numbering": false,
   "user_envs_cfg": false
  }
 },
 "nbformat": 4,
 "nbformat_minor": 4
}
