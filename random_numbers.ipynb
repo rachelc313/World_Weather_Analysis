{
 "cells": [
  {
   "cell_type": "code",
   "execution_count": 1,
   "id": "c78d340d",
   "metadata": {},
   "outputs": [],
   "source": [
    "import random"
   ]
  },
  {
   "cell_type": "code",
   "execution_count": 2,
   "id": "e76c29a7",
   "metadata": {},
   "outputs": [
    {
     "data": {
      "text/plain": [
       "-35"
      ]
     },
     "execution_count": 2,
     "metadata": {},
     "output_type": "execute_result"
    }
   ],
   "source": [
    "random.randint(-90,90)"
   ]
  },
  {
   "cell_type": "code",
   "execution_count": 3,
   "id": "955d39aa",
   "metadata": {},
   "outputs": [
    {
     "data": {
      "text/plain": [
       "0.33425746304337445"
      ]
     },
     "execution_count": 3,
     "metadata": {},
     "output_type": "execute_result"
    }
   ],
   "source": [
    "random.random()"
   ]
  },
  {
   "cell_type": "code",
   "execution_count": 4,
   "id": "2a90b316",
   "metadata": {},
   "outputs": [
    {
     "data": {
      "text/plain": [
       "-27.355860641300982"
      ]
     },
     "execution_count": 4,
     "metadata": {},
     "output_type": "execute_result"
    }
   ],
   "source": [
    "random_number = random.randint(-90, 89) + random.random()\n",
    "random_number"
   ]
  },
  {
   "cell_type": "code",
   "execution_count": 5,
   "id": "c5ac16c9",
   "metadata": {},
   "outputs": [
    {
     "data": {
      "text/plain": [
       "-24"
      ]
     },
     "execution_count": 5,
     "metadata": {},
     "output_type": "execute_result"
    }
   ],
   "source": [
    "random.randrange(-90, 90, step=1)"
   ]
  },
  {
   "cell_type": "code",
   "execution_count": 6,
   "id": "7ff6f0eb",
   "metadata": {},
   "outputs": [
    {
     "data": {
      "text/plain": [
       "9"
      ]
     },
     "execution_count": 6,
     "metadata": {},
     "output_type": "execute_result"
    }
   ],
   "source": [
    "random.randrange(-90, 90, step=3)"
   ]
  },
  {
   "cell_type": "code",
   "execution_count": 7,
   "id": "ec24899e",
   "metadata": {},
   "outputs": [
    {
     "data": {
      "text/plain": [
       "59.12371762059428"
      ]
     },
     "execution_count": 7,
     "metadata": {},
     "output_type": "execute_result"
    }
   ],
   "source": [
    "random.uniform(-90, 90)"
   ]
  },
  {
   "cell_type": "code",
   "execution_count": 8,
   "id": "0623aade",
   "metadata": {},
   "outputs": [],
   "source": [
    "# Import the NumPy module - no need to import the random module if you import NumPy\n",
    "import numpy as np"
   ]
  },
  {
   "cell_type": "code",
   "execution_count": 9,
   "id": "2f1ba42d",
   "metadata": {},
   "outputs": [
    {
     "data": {
      "text/plain": [
       "-78.30585222842535"
      ]
     },
     "execution_count": 9,
     "metadata": {},
     "output_type": "execute_result"
    }
   ],
   "source": [
    "np.random.uniform(-90.000, 90.000)"
   ]
  },
  {
   "cell_type": "code",
   "execution_count": 10,
   "id": "778df8b9",
   "metadata": {},
   "outputs": [
    {
     "data": {
      "text/plain": [
       "array([-83.22976232,  51.60724624,  -3.0761828 ,  65.65355434,\n",
       "       -11.36235247, -36.91272106, -34.52054087, -38.89767493,\n",
       "        -2.23402106,  18.74859187, -61.43021292,  61.22548298,\n",
       "       -65.28366357,  23.88910498,  58.26214786,  -3.84582006,\n",
       "       -36.48866499,  84.05488668,  37.67494411,  42.80029364,\n",
       "        -7.50337827,   8.00059693,  32.44321607,  82.15086935,\n",
       "       -87.6799261 ,  89.8072651 , -15.00871775,  79.92770941,\n",
       "       -17.30340769, -13.2641304 ,  18.75571982,  83.16963877,\n",
       "       -79.7306847 ,  53.22741144,  78.23914503, -24.68770405,\n",
       "       -80.62155543, -51.9427939 ,  21.45280429, -82.8301257 ,\n",
       "       -56.65818907,  59.41275968, -61.04640781,  17.01137086,\n",
       "       -58.82341476,  59.41889999, -18.40879112, -16.24132658,\n",
       "        64.43363849, -60.88577934])"
      ]
     },
     "execution_count": 10,
     "metadata": {},
     "output_type": "execute_result"
    }
   ],
   "source": [
    "np. random.uniform(-90.000, 90.000, size=50)"
   ]
  },
  {
   "cell_type": "code",
   "execution_count": 11,
   "id": "d18c5e5d",
   "metadata": {},
   "outputs": [],
   "source": [
    "# Import timeit\n",
    "import timeit"
   ]
  },
  {
   "cell_type": "code",
   "execution_count": 12,
   "id": "b66ff2bb",
   "metadata": {},
   "outputs": [
    {
     "name": "stdout",
     "output_type": "stream",
     "text": [
      "17.8 µs ± 2.17 µs per loop (mean ± std. dev. of 7 runs, 100000 loops each)\n"
     ]
    }
   ],
   "source": [
    " %timeit np.random.uniform(-90.000, 90.000, size=1500)"
   ]
  },
  {
   "cell_type": "code",
   "execution_count": 13,
   "id": "e185a3fe",
   "metadata": {},
   "outputs": [
    {
     "name": "stdout",
     "output_type": "stream",
     "text": [
      "3.28 ms ± 232 µs per loop (mean ± std. dev. of 7 runs, 100 loops each)\n"
     ]
    }
   ],
   "source": [
    " def latitudes(size):\n",
    "     latitudes = []\n",
    "     x = 0\n",
    "    while x < (size):\n",
    "         random_lat = random.randint(-90, 90) + random.random()\n",
    "         latitudes.append(random_lat)\n",
    "         x += 1\n",
    "     return latitudes\n",
    " # Call the function with 1500.\n",
    " %timeit latitudes(1500)"
   ]
  },
  {
   "cell_type": "code",
   "execution_count": 25,
   "id": "0f6282e2",
   "metadata": {},
   "outputs": [
    {
     "name": "stdout",
     "output_type": "stream",
     "text": [
      "40.5 ns ± 6.57 ns per loop (mean ± std. dev. of 7 runs, 10000000 loops each)\n"
     ]
    }
   ],
   "source": [
    "# Skill Drill 6.1.4: Refactor the code for the while loop with the %timeit magic command and write a for loop \n",
    "# that will generate the 1,500 latitudes.\n",
    "\n",
    "\n",
    "latitudes = []\n",
    "x = 0\n",
    "for x in latitudes:\n",
    "    random_lat = np.random.uniform(-90.000, 90.000)\n",
    "    x =+ 1\n",
    "   \n",
    "%timeit latitudes\n",
    "\n"
   ]
  }
 ],
 "metadata": {
  "kernelspec": {
   "display_name": "Python 3 (ipykernel)",
   "language": "python",
   "name": "python3"
  },
  "language_info": {
   "codemirror_mode": {
    "name": "ipython",
    "version": 3
   },
   "file_extension": ".py",
   "mimetype": "text/x-python",
   "name": "python",
   "nbconvert_exporter": "python",
   "pygments_lexer": "ipython3",
   "version": "3.7.13"
  }
 },
 "nbformat": 4,
 "nbformat_minor": 5
}
